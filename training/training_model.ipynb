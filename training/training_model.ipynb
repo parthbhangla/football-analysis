{
 "cells": [
  {
   "cell_type": "code",
   "execution_count": null,
   "metadata": {},
   "outputs": [],
   "source": [
    "# Install necessary packages\n",
    "!pip install ultralytics\n",
    "!pip install roboflow\n",
    "!pip install shutil"
   ]
  },
  {
   "cell_type": "code",
   "execution_count": null,
   "metadata": {},
   "outputs": [],
   "source": [
    "# Getting the Dataset\n",
    "from roboflow import Roboflow\n",
    "rf = Roboflow(api_key=\"YOUR_API_KEY\") # Private API Key - Roboflow Accounts\n",
    "project = rf.workspace(\"roboflow-jvuqo\").project(\"football-players-detection-3zvbc\")\n",
    "version = project.version(1)\n",
    "dataset = version.download(\"yolov8\")\n",
    "\n",
    "dataset.location()"
   ]
  },
  {
   "cell_type": "code",
   "execution_count": null,
   "metadata": {},
   "outputs": [],
   "source": [
    "# Moving the data into required position\n",
    "shutil.move('football-player-detection-1/train',\n",
    "            'football-player-detection-1/football-player-detection-1/train')\n",
    "shutil.move('football-player-detection-1/test',\n",
    "            'football-player-detection-1/football-player-detection-1/test')\n",
    "shutil.move('football-player-detection-1/valid',\n",
    "            'football-player-detection-1/football-player-detection-1/valid')"
   ]
  },
  {
   "cell_type": "code",
   "execution_count": null,
   "metadata": {},
   "outputs": [],
   "source": [
    "# Training the model\n",
    "!yolo task=detect mode=train model=yolov8x data={dataset.location}/data.yaml epochs=100 imgsz=640"
   ]
  }
 ],
 "metadata": {
  "language_info": {
   "name": "python"
  }
 },
 "nbformat": 4,
 "nbformat_minor": 2
}
